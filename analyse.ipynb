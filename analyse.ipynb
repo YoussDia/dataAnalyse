{
 "cells": [
  {
   "cell_type": "code",
   "execution_count": 4,
   "metadata": {},
   "outputs": [],
   "source": [
    "import pandas as pd \n",
    "\n",
    "mydataset = {\n",
    "  'Nom': [\"Diare\", \"bekale\", \"Diallo\",\"Mignon\"],\n",
    "  'Prenom': ['youssouf', \"coralie\", \"Moussa\",\"Divin\"],\n",
    "  'Age':[21,20,22,19]\n",
    "}"
   ]
  },
  {
   "cell_type": "code",
   "execution_count": null,
   "metadata": {},
   "outputs": [],
   "source": []
  },
  {
   "cell_type": "code",
   "execution_count": 5,
   "metadata": {},
   "outputs": [],
   "source": [
    "dico = {\n",
    "    \"note1\":10,\n",
    "    \"note2\":15,\n",
    "    \"note3\":17\n",
    "}\n"
   ]
  },
  {
   "cell_type": "code",
   "execution_count": 6,
   "metadata": {},
   "outputs": [
    {
     "name": "stdout",
     "output_type": "stream",
     "text": [
      "note1    10\n",
      "note2    15\n",
      "note3    17\n",
      "dtype: int64\n"
     ]
    }
   ],
   "source": [
    "maSerie = pd.Series(dico)\n",
    "print(maSerie)"
   ]
  },
  {
   "cell_type": "code",
   "execution_count": 7,
   "metadata": {},
   "outputs": [
    {
     "name": "stdout",
     "output_type": "stream",
     "text": [
      "              Nom    Prenom  Age\n",
      "personne1   Diare  youssouf   21\n",
      "personne2  bekale   coralie   20\n",
      "personne3  Diallo    Moussa   22\n",
      "personne4  Mignon     Divin   19\n"
     ]
    }
   ],
   "source": [
    "dataFrame = pd.DataFrame(mydataset,index=[\"personne1\",\"personne2\",\"personne3\",\"personne4\"])\n",
    "print(dataFrame)"
   ]
  },
  {
   "cell_type": "code",
   "execution_count": 8,
   "metadata": {},
   "outputs": [
    {
     "name": "stdout",
     "output_type": "stream",
     "text": [
      "Nom        bekale\n",
      "Prenom    coralie\n",
      "Age            20\n",
      "Name: personne2, dtype: object\n"
     ]
    }
   ],
   "source": [
    "print(dataFrame.loc[\"personne2\"])"
   ]
  },
  {
   "cell_type": "markdown",
   "metadata": {},
   "source": [
    "Lecture des fichiers csv"
   ]
  },
  {
   "cell_type": "code",
   "execution_count": 9,
   "metadata": {},
   "outputs": [
    {
     "name": "stdout",
     "output_type": "stream",
     "text": [
      "     Duration  Pulse  Maxpulse  Calories\n",
      "0        60.0    110       130     409.1\n",
      "1        60.0    117       145     479.0\n",
      "2        60.0    103       135     340.0\n",
      "3        45.0    109       175     282.4\n",
      "4        45.0    117       148     406.0\n",
      "..        ...    ...       ...       ...\n",
      "170      60.0    105       140     290.8\n",
      "171      60.0    110       145     300.0\n",
      "172      60.0    115       145     310.2\n",
      "173      75.0    120       150     320.4\n",
      "174      75.0    125       150     330.4\n",
      "\n",
      "[175 rows x 4 columns]\n"
     ]
    }
   ],
   "source": [
    "dataCSV = pd.read_csv(\"data.csv\")\n",
    "print(dataCSV)"
   ]
  },
  {
   "cell_type": "code",
   "execution_count": 10,
   "metadata": {
    "notebookRunGroups": {
     "groupValue": "1"
    }
   },
   "outputs": [
    {
     "name": "stdout",
     "output_type": "stream",
     "text": [
      "     Duration  Pulse  Maxpulse  Calories\n",
      "25       60.0    130       101     300.0\n",
      "99       15.0     80       100      50.5\n",
      "108      90.0     90       100     500.0\n",
      "109      90.0     90       100     500.4\n"
     ]
    }
   ],
   "source": [
    "dfFilter = dataCSV[dataCSV[\"Maxpulse\"]<102]\n",
    "print(dfFilter)"
   ]
  },
  {
   "cell_type": "markdown",
   "metadata": {},
   "source": [
    "moyenne des calorie des gens ayant une Maxpulse <102\n"
   ]
  },
  {
   "cell_type": "code",
   "execution_count": 11,
   "metadata": {},
   "outputs": [
    {
     "name": "stdout",
     "output_type": "stream",
     "text": [
      "337.725\n"
     ]
    }
   ],
   "source": [
    "moyM = dfFilter[\"Calories\"].mean()\n",
    "print(moyM)"
   ]
  },
  {
   "cell_type": "markdown",
   "metadata": {},
   "source": [
    "Lecture des fichier JSON"
   ]
  },
  {
   "cell_type": "code",
   "execution_count": 12,
   "metadata": {},
   "outputs": [
    {
     "name": "stdout",
     "output_type": "stream",
     "text": [
      "     Duration  Pulse  Maxpulse  Calories\n",
      "0          60    110       130     409.1\n",
      "1          60    117       145     479.0\n",
      "2          60    103       135     340.0\n",
      "3          45    109       175     282.4\n",
      "4          45    117       148     406.0\n",
      "..        ...    ...       ...       ...\n",
      "164        60    105       140     290.8\n",
      "165        60    110       145     300.4\n",
      "166        60    115       145     310.2\n",
      "167        75    120       150     320.4\n",
      "168        75    125       150     330.4\n",
      "\n",
      "[169 rows x 4 columns]\n"
     ]
    }
   ],
   "source": [
    "dataJS = pd.read_json(\"data.json\")\n",
    "print(dataJS)\n"
   ]
  },
  {
   "cell_type": "markdown",
   "metadata": {},
   "source": [
    "Annalyse d'une trame de donné et netoyage"
   ]
  },
  {
   "cell_type": "code",
   "execution_count": 13,
   "metadata": {},
   "outputs": [
    {
     "name": "stdout",
     "output_type": "stream",
     "text": [
      "<class 'pandas.core.frame.DataFrame'>\n",
      "Index: 169 entries, 0 to 168\n",
      "Data columns (total 4 columns):\n",
      " #   Column    Non-Null Count  Dtype  \n",
      "---  ------    --------------  -----  \n",
      " 0   Duration  169 non-null    int64  \n",
      " 1   Pulse     169 non-null    int64  \n",
      " 2   Maxpulse  169 non-null    int64  \n",
      " 3   Calories  164 non-null    float64\n",
      "dtypes: float64(1), int64(3)\n",
      "memory usage: 6.6 KB\n",
      "None\n"
     ]
    }
   ],
   "source": [
    "print(dataJS.info())"
   ]
  },
  {
   "cell_type": "markdown",
   "metadata": {},
   "source": [
    "supprimer les lignes contenants des valeurs vides de mon fichier csv"
   ]
  },
  {
   "cell_type": "code",
   "execution_count": 14,
   "metadata": {},
   "outputs": [
    {
     "name": "stdout",
     "output_type": "stream",
     "text": [
      "<class 'pandas.core.frame.DataFrame'>\n",
      "Index: 170 entries, 0 to 174\n",
      "Data columns (total 4 columns):\n",
      " #   Column    Non-Null Count  Dtype  \n",
      "---  ------    --------------  -----  \n",
      " 0   Duration  170 non-null    float64\n",
      " 1   Pulse     170 non-null    int64  \n",
      " 2   Maxpulse  170 non-null    int64  \n",
      " 3   Calories  170 non-null    float64\n",
      "dtypes: float64(2), int64(2)\n",
      "memory usage: 6.6 KB\n",
      "None\n"
     ]
    }
   ],
   "source": [
    "dataCSV.dropna(inplace=True)\n",
    "print(dataCSV.info())"
   ]
  },
  {
   "cell_type": "markdown",
   "metadata": {},
   "source": [
    "remplacer les valeurs nuls par quelque chose "
   ]
  },
  {
   "cell_type": "code",
   "execution_count": 15,
   "metadata": {},
   "outputs": [
    {
     "name": "stdout",
     "output_type": "stream",
     "text": [
      "<class 'pandas.core.frame.DataFrame'>\n",
      "RangeIndex: 175 entries, 0 to 174\n",
      "Data columns (total 4 columns):\n",
      " #   Column    Non-Null Count  Dtype  \n",
      "---  ------    --------------  -----  \n",
      " 0   Duration  175 non-null    float64\n",
      " 1   Pulse     175 non-null    int64  \n",
      " 2   Maxpulse  175 non-null    int64  \n",
      " 3   Calories  175 non-null    float64\n",
      "dtypes: float64(2), int64(2)\n",
      "memory usage: 5.6 KB\n",
      "None\n"
     ]
    }
   ],
   "source": [
    "dataCSV = pd.read_csv(\"data.csv\")\n",
    "\"\"\" tout remplacer\"\"\"\n",
    "dataCSV.fillna(667,inplace=True)\n",
    "print(dataCSV.info())\n"
   ]
  },
  {
   "cell_type": "markdown",
   "metadata": {},
   "source": [
    "remplacer uniquement pour les colonnes specifiees"
   ]
  },
  {
   "cell_type": "code",
   "execution_count": 16,
   "metadata": {},
   "outputs": [
    {
     "name": "stdout",
     "output_type": "stream",
     "text": [
      "<class 'pandas.core.frame.DataFrame'>\n",
      "RangeIndex: 175 entries, 0 to 174\n",
      "Data columns (total 4 columns):\n",
      " #   Column    Non-Null Count  Dtype  \n",
      "---  ------    --------------  -----  \n",
      " 0   Duration  175 non-null    float64\n",
      " 1   Pulse     175 non-null    int64  \n",
      " 2   Maxpulse  175 non-null    int64  \n",
      " 3   Calories  175 non-null    float64\n",
      "dtypes: float64(2), int64(2)\n",
      "memory usage: 5.6 KB\n",
      "None\n"
     ]
    }
   ],
   "source": [
    "dataCSV = pd.read_csv(\"data.csv\")\n",
    "new = dataCSV[\"Calories\"].fillna(140)\n",
    "dataCSV[\"Calories\"] = new\n",
    "print(dataCSV.info())\n"
   ]
  },
  {
   "cell_type": "markdown",
   "metadata": {},
   "source": [
    "remplacer les valeurs vides par ma une moyenne une medianne ou un mode"
   ]
  },
  {
   "cell_type": "code",
   "execution_count": 17,
   "metadata": {},
   "outputs": [
    {
     "name": "stdout",
     "output_type": "stream",
     "text": [
      "<class 'pandas.core.frame.DataFrame'>\n",
      "RangeIndex: 175 entries, 0 to 174\n",
      "Data columns (total 4 columns):\n",
      " #   Column    Non-Null Count  Dtype  \n",
      "---  ------    --------------  -----  \n",
      " 0   Duration  175 non-null    float64\n",
      " 1   Pulse     175 non-null    int64  \n",
      " 2   Maxpulse  175 non-null    int64  \n",
      " 3   Calories  175 non-null    float64\n",
      "dtypes: float64(2), int64(2)\n",
      "memory usage: 5.6 KB\n",
      "None\n"
     ]
    }
   ],
   "source": [
    "dataCSV = pd.read_csv(\"data.csv\")\n",
    "moy = dataCSV[\"Calories\"].mean()\n",
    "cal = dataCSV[\"Calories\"].fillna(moy)\n",
    "dataCSV[\"Calories\"]=cal\n",
    "print(dataCSV.info())\n"
   ]
  },
  {
   "cell_type": "code",
   "execution_count": 18,
   "metadata": {},
   "outputs": [
    {
     "name": "stdout",
     "output_type": "stream",
     "text": [
      "<class 'pandas.core.frame.DataFrame'>\n",
      "RangeIndex: 175 entries, 0 to 174\n",
      "Data columns (total 4 columns):\n",
      " #   Column    Non-Null Count  Dtype  \n",
      "---  ------    --------------  -----  \n",
      " 0   Duration  175 non-null    float64\n",
      " 1   Pulse     175 non-null    int64  \n",
      " 2   Maxpulse  175 non-null    int64  \n",
      " 3   Calories  175 non-null    float64\n",
      "dtypes: float64(2), int64(2)\n",
      "memory usage: 5.6 KB\n",
      "None\n"
     ]
    }
   ],
   "source": [
    "dataCSV = pd.read_csv(\"data.csv\")\n",
    "mediane = dataCSV[\"Calories\"].median()\n",
    "tmp = dataCSV[\"Calories\"].fillna(mediane)\n",
    "dataCSV[\"Calories\"]= tmp\n",
    "print(dataCSV.info())"
   ]
  },
  {
   "cell_type": "code",
   "execution_count": 19,
   "metadata": {},
   "outputs": [
    {
     "name": "stdout",
     "output_type": "stream",
     "text": [
      "<class 'pandas.core.frame.DataFrame'>\n",
      "RangeIndex: 175 entries, 0 to 174\n",
      "Data columns (total 4 columns):\n",
      " #   Column    Non-Null Count  Dtype  \n",
      "---  ------    --------------  -----  \n",
      " 0   Duration  175 non-null    float64\n",
      " 1   Pulse     175 non-null    int64  \n",
      " 2   Maxpulse  175 non-null    int64  \n",
      " 3   Calories  175 non-null    float64\n",
      "dtypes: float64(2), int64(2)\n",
      "memory usage: 5.6 KB\n",
      "None\n"
     ]
    }
   ],
   "source": [
    "dataCSV = pd.read_csv(\"data.csv\")\n",
    "mode = dataCSV[\"Calories\"].mode()[0]\n",
    "tmp = dataCSV[\"Calories\"].fillna(mode)\n",
    "dataCSV[\"Calories\"] = tmp\n",
    "print(dataCSV.info())"
   ]
  },
  {
   "cell_type": "markdown",
   "metadata": {},
   "source": [
    "Netoyage des données qui sont sous le mauvais format (je peut les mettre au bon format ou les supprimer)"
   ]
  },
  {
   "cell_type": "code",
   "execution_count": 20,
   "metadata": {},
   "outputs": [
    {
     "data": {
      "text/plain": [
       "' si dans la colone date les donnée doivent etre au format \\ndate mais ne sont pas je fait :\\ndataCSV[\"Duration\"] = pd.to_datetime(dataCSV[\"Duration\"])\\n'"
      ]
     },
     "execution_count": 20,
     "metadata": {},
     "output_type": "execute_result"
    }
   ],
   "source": [
    "dataCSV = pd.read_csv(\"data.csv\")\n",
    "''' si dans la colone date les donnée doivent etre au format \n",
    "date mais ne sont pas je fait :\n",
    "dataCSV[\"Duration\"] = pd.to_datetime(dataCSV[\"Duration\"])\n",
    "'''"
   ]
  },
  {
   "cell_type": "markdown",
   "metadata": {},
   "source": [
    "suppresion des des données qui ne sont pas au bon format"
   ]
  },
  {
   "cell_type": "code",
   "execution_count": 21,
   "metadata": {},
   "outputs": [
    {
     "name": "stdout",
     "output_type": "stream",
     "text": [
      "<class 'pandas.core.frame.DataFrame'>\n",
      "RangeIndex: 175 entries, 0 to 174\n",
      "Data columns (total 4 columns):\n",
      " #   Column    Non-Null Count  Dtype  \n",
      "---  ------    --------------  -----  \n",
      " 0   Duration  175 non-null    float64\n",
      " 1   Pulse     175 non-null    int64  \n",
      " 2   Maxpulse  175 non-null    int64  \n",
      " 3   Calories  170 non-null    float64\n",
      "dtypes: float64(2), int64(2)\n",
      "memory usage: 5.6 KB\n",
      "None\n",
      "<class 'pandas.core.frame.DataFrame'>\n",
      "Index: 170 entries, 0 to 174\n",
      "Data columns (total 4 columns):\n",
      " #   Column    Non-Null Count  Dtype  \n",
      "---  ------    --------------  -----  \n",
      " 0   Duration  170 non-null    float64\n",
      " 1   Pulse     170 non-null    int64  \n",
      " 2   Maxpulse  170 non-null    int64  \n",
      " 3   Calories  170 non-null    float64\n",
      "dtypes: float64(2), int64(2)\n",
      "memory usage: 6.6 KB\n",
      "None\n"
     ]
    }
   ],
   "source": [
    "\"\"\"Supprimer les lignes avec une valeur NULL dans la colonne « Date » \"\"\"\n",
    "dataCSV = pd.read_csv(\"data.csv\")\n",
    "print(dataCSV.info())\n",
    "dataCSV.dropna(subset=[\"Calories\"],inplace=True)\n",
    "print(dataCSV.info())"
   ]
  },
  {
   "cell_type": "markdown",
   "metadata": {},
   "source": [
    "remplacemnt de donnée erroné \n"
   ]
  },
  {
   "cell_type": "code",
   "execution_count": 22,
   "metadata": {},
   "outputs": [
    {
     "name": "stdout",
     "output_type": "stream",
     "text": [
      "     Duration  Pulse  Maxpulse  Calories\n",
      "0        60.0    110       130     409.1\n",
      "1        60.0    117       145     479.0\n",
      "2        60.0    103       135     340.0\n",
      "3        45.0    109       175     282.4\n",
      "4        41.0    117       148     406.0\n",
      "..        ...    ...       ...       ...\n",
      "170      60.0    105       140     290.8\n",
      "171      60.0    110       145     300.0\n",
      "172      60.0    115       145     310.2\n",
      "173      75.0    120       150     320.4\n",
      "174      75.0    125       150     330.4\n",
      "\n",
      "[175 rows x 4 columns]\n"
     ]
    }
   ],
   "source": [
    "dataCSV = pd.read_csv(\"data.csv\")\n",
    "dataCSV.loc[4,\"Duration\"] = 41\n",
    "print(dataCSV)"
   ]
  },
  {
   "cell_type": "markdown",
   "metadata": {},
   "source": [
    "pour les grand enssemble de donné je doit definir des règles, dans mon cas il ne faut pas que la duré depase 75 minutes"
   ]
  },
  {
   "cell_type": "code",
   "execution_count": 23,
   "metadata": {},
   "outputs": [],
   "source": [
    "dataCSV = pd.read_csv(\"data.csv\")\n",
    "moy = dataCSV[\"Duration\"].mean()\n",
    "\n",
    "for i in dataCSV.index:\n",
    "    if dataCSV.loc[i ,\"Duration\"] >75:\n",
    "        dataCSV.loc[i ,\"Duration\"] = moy"
   ]
  },
  {
   "cell_type": "code",
   "execution_count": 24,
   "metadata": {},
   "outputs": [
    {
     "name": "stdout",
     "output_type": "stream",
     "text": [
      "     Duration  Pulse  Maxpulse  Calories\n",
      "0        60.0    110       130     409.1\n",
      "1        60.0    117       145     479.0\n",
      "2        60.0    103       135     340.0\n",
      "3        45.0    109       175     282.4\n",
      "4        45.0    117       148     406.0\n",
      "..        ...    ...       ...       ...\n",
      "170      60.0    105       140     290.8\n",
      "171      60.0    110       145     300.0\n",
      "172      60.0    115       145     310.2\n",
      "173      75.0    120       150     320.4\n",
      "174      75.0    125       150     330.4\n",
      "\n",
      "[175 rows x 4 columns]\n"
     ]
    }
   ],
   "source": [
    "print(dataCSV)"
   ]
  },
  {
   "cell_type": "markdown",
   "metadata": {},
   "source": [
    "pour la suppression"
   ]
  },
  {
   "cell_type": "code",
   "execution_count": 25,
   "metadata": {},
   "outputs": [
    {
     "name": "stdout",
     "output_type": "stream",
     "text": [
      "<class 'pandas.core.frame.DataFrame'>\n",
      "Index: 112 entries, 0 to 174\n",
      "Data columns (total 4 columns):\n",
      " #   Column    Non-Null Count  Dtype  \n",
      "---  ------    --------------  -----  \n",
      " 0   Duration  112 non-null    float64\n",
      " 1   Pulse     112 non-null    int64  \n",
      " 2   Maxpulse  112 non-null    int64  \n",
      " 3   Calories  112 non-null    float64\n",
      "dtypes: float64(2), int64(2)\n",
      "memory usage: 8.4 KB\n",
      "None\n"
     ]
    }
   ],
   "source": [
    "for i in dataCSV.index:\n",
    "    if dataCSV.loc[i,\"Duration\"]<60 :\n",
    "        dataCSV.drop(i,inplace=True)\n",
    "moyCal = dataCSV[\"Calories\"].mean()\n",
    "dataCSV[\"Calories\"].fillna(moy)\n",
    "dataCSV[\"Calories\"] = tmp\n",
    "\n",
    "print(dataCSV.info())"
   ]
  },
  {
   "cell_type": "markdown",
   "metadata": {},
   "source": [
    "Supprimer Les doublons "
   ]
  },
  {
   "cell_type": "code",
   "execution_count": 26,
   "metadata": {},
   "outputs": [
    {
     "name": "stdout",
     "output_type": "stream",
     "text": [
      "0      False\n",
      "1      False\n",
      "2      False\n",
      "5      False\n",
      "6      False\n",
      "9      False\n",
      "10     False\n",
      "11     False\n",
      "12     False\n",
      "13     False\n",
      "14     False\n",
      "15     False\n",
      "16     False\n",
      "18      True\n",
      "19      True\n",
      "20      True\n",
      "21     False\n",
      "23     False\n",
      "25     False\n",
      "27     False\n",
      "28     False\n",
      "29     False\n",
      "30     False\n",
      "31      True\n",
      "32      True\n",
      "33      True\n",
      "34     False\n",
      "35     False\n",
      "36     False\n",
      "38     False\n",
      "39     False\n",
      "40     False\n",
      "41     False\n",
      "42      True\n",
      "43      True\n",
      "44      True\n",
      "47     False\n",
      "48     False\n",
      "49     False\n",
      "50     False\n",
      "51     False\n",
      "52     False\n",
      "55     False\n",
      "56     False\n",
      "57     False\n",
      "58     False\n",
      "59     False\n",
      "61     False\n",
      "62     False\n",
      "66     False\n",
      "67     False\n",
      "68     False\n",
      "71     False\n",
      "72     False\n",
      "73     False\n",
      "75     False\n",
      "76     False\n",
      "77      True\n",
      "78     False\n",
      "79     False\n",
      "81     False\n",
      "84     False\n",
      "85     False\n",
      "89     False\n",
      "93     False\n",
      "96     False\n",
      "105    False\n",
      "107    False\n",
      "108    False\n",
      "109    False\n",
      "112    False\n",
      "114    False\n",
      "115    False\n",
      "116    False\n",
      "120    False\n",
      "121    False\n",
      "122    False\n",
      "123    False\n",
      "124    False\n",
      "125    False\n",
      "128    False\n",
      "129    False\n",
      "130    False\n",
      "131    False\n",
      "132    False\n",
      "133    False\n",
      "134    False\n",
      "135    False\n",
      "136    False\n",
      "137    False\n",
      "138    False\n",
      "139    False\n",
      "140    False\n",
      "146    False\n",
      "147    False\n",
      "150    False\n",
      "152    False\n",
      "153    False\n",
      "155    False\n",
      "156    False\n",
      "157    False\n",
      "158    False\n",
      "160    False\n",
      "161    False\n",
      "162    False\n",
      "163    False\n",
      "164    False\n",
      "170    False\n",
      "171    False\n",
      "172    False\n",
      "173    False\n",
      "174    False\n"
     ]
    }
   ],
   "source": [
    "print(dataCSV.duplicated().to_string())"
   ]
  },
  {
   "cell_type": "code",
   "execution_count": 27,
   "metadata": {},
   "outputs": [],
   "source": [
    "dataCSV.drop_duplicates(inplace=True)"
   ]
  },
  {
   "cell_type": "code",
   "execution_count": 28,
   "metadata": {},
   "outputs": [
    {
     "name": "stdout",
     "output_type": "stream",
     "text": [
      "0      False\n",
      "1      False\n",
      "2      False\n",
      "5      False\n",
      "6      False\n",
      "       ...  \n",
      "170    False\n",
      "171    False\n",
      "172    False\n",
      "173    False\n",
      "174    False\n",
      "Length: 102, dtype: bool\n"
     ]
    }
   ],
   "source": [
    "print(dataCSV.duplicated())"
   ]
  },
  {
   "cell_type": "markdown",
   "metadata": {},
   "source": [
    "corelation  :"
   ]
  },
  {
   "cell_type": "code",
   "execution_count": 29,
   "metadata": {},
   "outputs": [
    {
     "name": "stdout",
     "output_type": "stream",
     "text": [
      "          Duration     Pulse  Maxpulse  Calories\n",
      "Duration  1.000000 -0.099288  0.015658  0.659725\n",
      "Pulse    -0.099288  1.000000  0.788416  0.031478\n",
      "Maxpulse  0.015658  0.788416  1.000000  0.210086\n",
      "Calories  0.659725  0.031478  0.210086  1.000000\n"
     ]
    }
   ],
   "source": [
    "dataCSV = pd.read_csv(\"data.csv\")\n",
    "print(dataCSV.corr())"
   ]
  },
  {
   "cell_type": "markdown",
   "metadata": {},
   "source": [
    "Tracage"
   ]
  },
  {
   "cell_type": "code",
   "execution_count": 30,
   "metadata": {},
   "outputs": [
    {
     "data": {
      "image/png": "[encoded data removed]",
      "text/plain": [
       "<Figure size 640x480 with 1 Axes>"
      ]
     },
     "metadata": {},
     "output_type": "display_data"
    }
   ],
   "source": [
    "import matplotlib.pyplot as plt\n",
    "dataCSV.plot()\n",
    "plt.show()"
   ]
  },
  {
   "cell_type": "markdown",
   "metadata": {},
   "source": [
    "nuages de points"
   ]
  },
  {
   "cell_type": "code",
   "execution_count": 34,
   "metadata": {},
   "outputs": [
    {
     "data": {
      "image/png": "[encoded data removed]",
      "text/plain": [
       "<Figure size 640x480 with 1 Axes>"
      ]
     },
     "metadata": {},
     "output_type": "display_data"
    }
   ],
   "source": [
    "dataCSV.plot(kind='scatter',x = 'Duration',y ='Calories')\n",
    "plt.show()\n"
   ]
  },
  {
   "cell_type": "markdown",
   "metadata": {},
   "source": [
    "Histogramme"
   ]
  },
  {
   "cell_type": "code",
   "execution_count": 32,
   "metadata": {},
   "outputs": [
    {
     "data": {
      "image/png": "[encoded data removed]",
      "text/plain": [
       "<Figure size 640x480 with 1 Axes>"
      ]
     },
     "metadata": {},
     "output_type": "display_data"
    }
   ],
   "source": [
    "dataCSV['Duration'].plot(kind='hist')\n",
    "plt.show()"
   ]
  },
  {
   "cell_type": "code",
   "execution_count": 33,
   "metadata": {},
   "outputs": [
    {
     "data": {
      "image/png": "[encoded data removed]",
      "text/plain": [
       "<Figure size 640x480 with 1 Axes>"
      ]
     },
     "metadata": {},
     "output_type": "display_data"
    }
   ],
   "source": [
    "import numpy\n",
    "import matplotlib.pyplot as plt\n",
    "numpy.random.seed(2)\n",
    "\n",
    "x = numpy.random.normal(3, 1, 100)\n",
    "y = numpy.random.normal(150, 40, 100) / x\n",
    "\n",
    "train_x = x[:80]\n",
    "train_y = y[:80]\n",
    "\n",
    "test_x = x[80:]\n",
    "test_y = y[80:]\n",
    "\n",
    "mymodel = numpy.poly1d(numpy.polyfit(train_x, train_y, 4))\n",
    "\n",
    "myline = numpy.linspace(0, 6, 100)\n",
    "\n",
    "plt.scatter(train_x, train_y)\n",
    "plt.plot(myline, mymodel(myline))\n",
    "plt.show()"
   ]
  },
  {
   "cell_type": "code",
   "execution_count": null,
   "metadata": {},
   "outputs": [],
   "source": []
  }
 ],
 "metadata": {
  "kernelspec": {
   "display_name": "Python 3",
   "language": "python",
   "name": "python3"
  },
  "language_info": {
   "codemirror_mode": {
    "name": "ipython",
    "version": 3
   },
   "file_extension": ".py",
   "mimetype": "text/x-python",
   "name": "python",
   "nbconvert_exporter": "python",
   "pygments_lexer": "ipython3",
   "version": "3.10.12"
  }
 },
 "nbformat": 4,
 "nbformat_minor": 2
}
